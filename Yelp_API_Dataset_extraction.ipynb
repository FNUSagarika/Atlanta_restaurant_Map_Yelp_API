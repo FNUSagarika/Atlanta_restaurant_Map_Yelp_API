{
  "nbformat": 4,
  "nbformat_minor": 0,
  "metadata": {
    "colab": {
      "provenance": []
    },
    "kernelspec": {
      "name": "python3",
      "display_name": "Python 3"
    },
    "language_info": {
      "name": "python"
    }
  },
  "cells": [
    {
      "cell_type": "code",
      "execution_count": null,
      "metadata": {
        "colab": {
          "base_uri": "https://localhost:8080/"
        },
        "id": "_mjyLV5SBs56",
        "outputId": "0d8f5aca-070f-4bfa-9cbc-6109608f2458"
      },
      "outputs": [
        {
          "output_type": "stream",
          "name": "stdout",
          "text": [
            "Collecting yelpapi\n",
            "  Downloading yelpapi-2.5.1-py3-none-any.whl.metadata (1.3 kB)\n",
            "Requirement already satisfied: requests in /usr/local/lib/python3.10/dist-packages (from yelpapi) (2.32.3)\n",
            "Requirement already satisfied: charset-normalizer<4,>=2 in /usr/local/lib/python3.10/dist-packages (from requests->yelpapi) (3.3.2)\n",
            "Requirement already satisfied: idna<4,>=2.5 in /usr/local/lib/python3.10/dist-packages (from requests->yelpapi) (3.10)\n",
            "Requirement already satisfied: urllib3<3,>=1.21.1 in /usr/local/lib/python3.10/dist-packages (from requests->yelpapi) (2.2.3)\n",
            "Requirement already satisfied: certifi>=2017.4.17 in /usr/local/lib/python3.10/dist-packages (from requests->yelpapi) (2024.8.30)\n",
            "Downloading yelpapi-2.5.1-py3-none-any.whl (7.4 kB)\n",
            "Installing collected packages: yelpapi\n",
            "Successfully installed yelpapi-2.5.1\n"
          ]
        }
      ],
      "source": [
        "pip install yelpapi\n"
      ]
    },
    {
      "cell_type": "code",
      "source": [
        "import requests\n",
        "import csv\n",
        "\n",
        "# Replace with your valid Yelp API key\n",
        "api_key = '#'\n",
        "\n",
        "url = \"https://api.yelp.com/v3/businesses/search\"\n",
        "headers = {\n",
        "    \"Authorization\": f\"Bearer {api_key}\",\n",
        "    \"accept\": \"application/json\"\n",
        "}\n",
        "\n",
        "# Number of total results you want (200 in this case)\n",
        "total_results = 200\n",
        "limit_per_request = 50  # Yelp API allows a maximum of 50 per request\n",
        "\n",
        "# List to store all business data\n",
        "all_businesses = []\n",
        "\n",
        "# Loop through pages in increments of 50 results using the 'offset' parameter\n",
        "for offset in range(0, total_results, limit_per_request):\n",
        "    params = {\n",
        "        \"term\": \"restaurants\",\n",
        "        \"location\": \"Atlanta, GA\",\n",
        "        \"limit\": limit_per_request,  # Limit per request\n",
        "        \"offset\": offset              # Offset for pagination\n",
        "    }\n",
        "\n",
        "    response = requests.get(url, headers=headers, params=params)\n",
        "\n",
        "    if response.status_code == 200:\n",
        "        data = response.json()\n",
        "        all_businesses.extend(data['businesses'])  # Add the businesses to the list\n",
        "    else:\n",
        "        print(f\"Error: {response.status_code}, {response.text}\")\n",
        "        break  # Exit the loop if there is an error\n",
        "\n",
        "# Save all the collected data to a CSV file with the same structure\n",
        "with open('atlanta_restaurants_full.csv', 'w', newline='') as file:\n",
        "    writer = csv.writer(file)\n",
        "    # Write headers that match the structure of DistinctRestaurantInformation.xlsx\n",
        "    writer.writerow(['RestaurantName', 'Address1', 'RestaurantCity', 'Phone', 'Latitude', 'Longitude', 'URLTag', 'AvgRating', 'NoReviews', 'Category'])\n",
        "\n",
        "    for business in all_businesses:\n",
        "        name = business['name']\n",
        "        rating = business['rating']\n",
        "        review_count = business['review_count']\n",
        "        address = \", \".join(business['location']['display_address'])  # Full address\n",
        "        latitude = business['coordinates']['latitude']\n",
        "        longitude = business['coordinates']['longitude']\n",
        "        phone = business.get('display_phone', 'N/A')  # Some businesses may not have a phone number\n",
        "        url_tag = business['url']  # Yelp business URL\n",
        "        categories = \", \".join([category['title'] for category in business['categories']])  # List of categories\n",
        "\n",
        "        # Write the data into the CSV\n",
        "        writer.writerow([name, address, 'Atlanta', phone, latitude, longitude, url_tag, rating, review_count, categories])\n",
        "\n",
        "print(\"Data has been written to atlanta_restaurants_full.csv\")\n"
      ],
      "metadata": {
        "colab": {
          "base_uri": "https://localhost:8080/"
        },
        "id": "SCvp8nOglyqW",
        "outputId": "b905a7e6-8e6d-42d5-a41b-8874d4e7dba2"
      },
      "execution_count": null,
      "outputs": [
        {
          "output_type": "stream",
          "name": "stdout",
          "text": [
            "Data has been written to atlanta_restaurants_full.csv\n"
          ]
        }
      ]
    },
    {
      "cell_type": "code",
      "source": [
        "import requests\n",
        "import csv\n",
        "from collections import Counter\n",
        "\n",
        "# Replace with your valid Yelp API key\n",
        "api_key = '#'\n",
        "\n",
        "url = \"https://api.yelp.com/v3/businesses/search\"\n",
        "headers = {\n",
        "    \"Authorization\": f\"Bearer {api_key}\",\n",
        "    \"accept\": \"application/json\"\n",
        "}\n",
        "\n",
        "# Total number of restaurants you want to fetch\n",
        "total_results = 200\n",
        "limit_per_request = 50  # Yelp API allows a maximum of 50 per request\n",
        "\n",
        "# List to store all business data\n",
        "all_businesses = []\n",
        "\n",
        "# Loop through pages in increments of 50 results using the 'offset' parameter\n",
        "for offset in range(0, total_results, limit_per_request):\n",
        "    params = {\n",
        "        \"term\": \"restaurants\",\n",
        "        \"location\": \"Atlanta, GA\",\n",
        "        \"limit\": limit_per_request,  # Limit per request\n",
        "        \"offset\": offset              # Offset for pagination\n",
        "    }\n",
        "\n",
        "    response = requests.get(url, headers=headers, params=params)\n",
        "\n",
        "    if response.status_code == 200:\n",
        "        data = response.json()\n",
        "        all_businesses.extend(data['businesses'])  # Add the businesses to the list\n",
        "    else:\n",
        "        print(f\"Error: {response.status_code}, {response.text}\")\n",
        "        break  # Exit the loop if there is an error\n",
        "\n",
        "# Counter to store category counts\n",
        "category_counter = Counter()\n",
        "\n",
        "# Loop through all businesses to extract and count the categories\n",
        "for business in all_businesses:\n",
        "    categories = [category['title'] for category in business['categories']]  # Extract category titles\n",
        "    category_counter.update(categories)  # Update counter with the categories\n",
        "\n",
        "# Save the aggregated data for the petal chart to a CSV file\n",
        "with open('atlanta_restaurants_petal_chart.csv', 'w', newline='') as file:\n",
        "    writer = csv.writer(file)\n",
        "    # Write headers: Category and CountOfCategory\n",
        "    writer.writerow(['Category', 'CountOfCategory', 'Path'])  # Path can be used later for visualization\n",
        "\n",
        "    for category, count in category_counter.items():\n",
        "        writer.writerow([category, count, 1])  # For now, set 'Path' to 1 as a placeholder\n",
        "\n",
        "print(\"Data for petal chart has been written to atlanta_restaurants_petal_chart.csv\")\n"
      ],
      "metadata": {
        "id": "WutT4dwImW45",
        "outputId": "a71f14f0-d9a0-4940-afd1-f122dd6b4843",
        "colab": {
          "base_uri": "https://localhost:8080/"
        }
      },
      "execution_count": null,
      "outputs": [
        {
          "output_type": "stream",
          "name": "stdout",
          "text": [
            "Data for petal chart has been written to atlanta_restaurants_petal_chart.csv\n"
          ]
        }
      ]
    }
  ]
}
